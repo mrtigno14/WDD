{
  "nbformat": 4,
  "nbformat_minor": 0,
  "metadata": {
    "colab": {
      "name": "Exercise 1.ipynb",
      "provenance": [],
      "collapsed_sections": [],
      "include_colab_link": true
    },
    "kernelspec": {
      "name": "python3",
      "display_name": "Python 3"
    },
    "language_info": {
      "name": "python"
    }
  },
  "cells": [
    {
      "cell_type": "markdown",
      "metadata": {
        "id": "view-in-github",
        "colab_type": "text"
      },
      "source": [
        "<a href=\"https://colab.research.google.com/github/Mtigno14/WDD-58043/blob/main/Exercise_1.ipynb\" target=\"_parent\"><img src=\"https://colab.research.google.com/assets/colab-badge.svg\" alt=\"Open In Colab\"/></a>"
      ]
    },
    {
      "cell_type": "code",
      "execution_count": null,
      "metadata": {
        "colab": {
          "base_uri": "https://localhost:8080/"
        },
        "id": "nRCNDfOVRFSg",
        "outputId": "0cef14f8-f174-4cd6-8b8d-90ad3938864c"
      },
      "outputs": [
        {
          "output_type": "stream",
          "name": "stdout",
          "text": [
            "Enter the radius of the circle: 14\n",
            "The area of the circle is: 615.7521601035994\n"
          ]
        }
      ],
      "source": [
        "pi = 3.141592653589793238 #value of the pi\n",
        "radius = float(input(\"Enter the radius of the circle: \"))\n",
        "area = pi * radius * radius #formula of the area of a circle\n",
        "print(\"The area of the circle is:\" , area)"
      ]
    }
  ]
}